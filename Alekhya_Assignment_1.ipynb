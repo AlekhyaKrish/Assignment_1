{
 "cells": [
  {
   "cell_type": "code",
   "execution_count": 1,
   "id": "7c9e329e",
   "metadata": {},
   "outputs": [
    {
     "name": "stdout",
     "output_type": "stream",
     "text": [
      "1390330014032\n"
     ]
    }
   ],
   "source": [
    "#Q:declare int value and store it in a variable\n",
    "#Ans :\n",
    "a=2\n",
    "print(id(a))"
   ]
  },
  {
   "cell_type": "code",
   "execution_count": 3,
   "id": "429d6cdb",
   "metadata": {},
   "outputs": [
    {
     "name": "stdout",
     "output_type": "stream",
     "text": [
      "1390330210288\n",
      "1390330210288\n"
     ]
    }
   ],
   "source": [
    "#Q: Take one int value between 0 - 256.Assign it to two different variables.\n",
    "#Ans :\n",
    "a=243\n",
    "b=243\n",
    "print(id(a))\n",
    "print(id(b))\n",
    "It gives us same id because of the rule of reusablity "
   ]
  },
  {
   "cell_type": "code",
   "execution_count": 4,
   "id": "5a8cb3db",
   "metadata": {},
   "outputs": [
    {
     "name": "stdout",
     "output_type": "stream",
     "text": [
      "1390447396368\n",
      "1390447396432\n"
     ]
    }
   ],
   "source": [
    "#Q :Take one int value either less than -5 or greater than 256.Assign it to two different variables.\n",
    "#Q: Check the id of both the variables. It should come different.Check why?\n",
    "#Ans :\n",
    "a=-63\n",
    "b=-63\n",
    "print(id(a))\n",
    "print(id(b))"
   ]
  },
  {
   "cell_type": "code",
   "execution_count": 11,
   "id": "0420595c",
   "metadata": {},
   "outputs": [
    {
     "name": "stdout",
     "output_type": "stream",
     "text": [
      "16\n",
      "-8\n",
      "48\n",
      "0.3333333333333333\n",
      "4\n",
      "0\n",
      "16777216\n"
     ]
    }
   ],
   "source": [
    "#Take two different integer values.Store them in two different variables.Do below operations on them:-\n",
    "#Let\n",
    "a=4\n",
    "b=12\n",
    "#Find sum of both numbers\n",
    "print(a+b)\n",
    "#Find difference between them\n",
    "print(a-b)\n",
    "#Find the product of both numbers.\n",
    "print(a*b)\n",
    "#Find value after dividing first num with second number\n",
    "print(4/12)\n",
    "#Find the remainder after dividing first number with second number\n",
    "print(a%b)\n",
    "#Find the quotient after dividing first number with second number\n",
    "print(a//b)\n",
    "#Find the result of the first num to the power of the second number.\n",
    "print(a**b)"
   ]
  },
  {
   "cell_type": "code",
   "execution_count": 17,
   "id": "c501e346",
   "metadata": {},
   "outputs": [
    {
     "name": "stdout",
     "output_type": "stream",
     "text": [
      "False\n",
      "True\n",
      "True\n",
      "True\n"
     ]
    }
   ],
   "source": [
    "#Comparison Operators on integers.Take two different integer values.Store them in two different variables.\n",
    "#Do below operations on them.Compare se two numbers with below operator:-\n",
    "#Ans: Let\n",
    "a=28\n",
    "b=84\n",
    "#Greater than, '>'\n",
    "print(a>b)\n",
    "#Smaller than, '<'\n",
    "print(a<b)\n",
    "#Greater than or equal to, '>='\n",
    "print(b>=a)\n",
    "#Less than or equal to, '<='\n",
    "print(a<=b)"
   ]
  },
  {
   "cell_type": "code",
   "execution_count": 19,
   "id": "2f6eea04",
   "metadata": {},
   "outputs": [
    {
     "name": "stdout",
     "output_type": "stream",
     "text": [
      "False\n",
      "True\n"
     ]
    }
   ],
   "source": [
    "#Q: Equality Operator.Take two different integer values.Store them in two different variables.\n",
    "#Ans:let\n",
    "a=48\n",
    "b=62\n",
    "print(a==b)\n",
    "print(a!=b)"
   ]
  },
  {
   "cell_type": "code",
   "execution_count": 29,
   "id": "b03b582c",
   "metadata": {},
   "outputs": [
    {
     "name": "stdout",
     "output_type": "stream",
     "text": [
      "20\n",
      "0\n",
      "0\n",
      "0\n",
      "10\n",
      "20\n",
      "20\n",
      "0\n",
      "False\n",
      "True\n"
     ]
    }
   ],
   "source": [
    "#Logical operators.Observe the output of below codeCross check the output manually\n",
    "print(10 and 20)\n",
    "print(0 and 20)\n",
    "print(20 and 0)\n",
    "print(0 and 0)\n",
    "print(10 or 20)\n",
    "print(0 or 20)\n",
    "print(20 or 0)\n",
    "print(0 or 0)\n",
    "print(not 10)\n",
    "print(not 0)"
   ]
  },
  {
   "cell_type": "code",
   "execution_count": 47,
   "id": "03a6bf57",
   "metadata": {},
   "outputs": [
    {
     "name": "stdout",
     "output_type": "stream",
     "text": [
      "0\n",
      "30\n",
      "30\n",
      "40\n",
      "2\n"
     ]
    }
   ],
   "source": [
    "#Bitwise Operators.Do below operations on the values provided below\n",
    "a=10\n",
    "b=20\n",
    "#and\n",
    "print(a&b)\n",
    "#Bitwise or(|)\n",
    "print(a|b)\n",
    "#Bitwise(^)\n",
    "print(a^b)\n",
    "#Bitwise left shift\n",
    "a=10\n",
    "b=2\n",
    "print(a<<b)\n",
    "#Bitwise right shift\n",
    "a=10\n",
    "b=2\n",
    "print(a>>b)\n"
   ]
  },
  {
   "cell_type": "code",
   "execution_count": 49,
   "id": "ff89ac38",
   "metadata": {},
   "outputs": [
    {
     "name": "stdout",
     "output_type": "stream",
     "text": [
      "True\n",
      "False\n",
      "False\n",
      "True\n"
     ]
    }
   ],
   "source": [
    "#Q: What is the output of expression inside print statement. Cross check before running the program.\n",
    "a = 10\n",
    "b = 10\n",
    "print(a is b)\n",
    "print(a is not b)\n",
    "a = 1000\n",
    "b = 1000\n",
    "print(a is b)\n",
    "print(a is not b)"
   ]
  },
  {
   "cell_type": "code",
   "execution_count": 50,
   "id": "66793627",
   "metadata": {},
   "outputs": [
    {
     "name": "stdout",
     "output_type": "stream",
     "text": [
      "20\n"
     ]
    }
   ],
   "source": [
    "#Q: What is the output of expression inside print statement. Cross check before running the program.\n",
    "print(10+(10*32)//2**5&20+(~(-10))<<2)"
   ]
  },
  {
   "cell_type": "code",
   "execution_count": 51,
   "id": "e2fd8518",
   "metadata": {},
   "outputs": [
    {
     "name": "stdout",
     "output_type": "stream",
     "text": [
      "True\n",
      "True\n",
      "True\n",
      "True\n",
      "True\n",
      "True\n"
     ]
    }
   ],
   "source": [
    "#Q: Membership operation in, not in are two membership operators and it returns boolean value\n",
    "print('2' in 'Python2.7.8')\n",
    "print(10 in [10,10.20,10+20j,'Python'])\n",
    "print(10 in (10,10.20,10+20j,'Python'))\n",
    "print(2 in {1,2,3})\n",
    "print(3 in {1:100, 2:200, 3:300})\n",
    "print(10 in range(20))"
   ]
  },
  {
   "cell_type": "code",
   "execution_count": 55,
   "id": "2954c400",
   "metadata": {},
   "outputs": [
    {
     "name": "stdout",
     "output_type": "stream",
     "text": [
      "0b1111101000\n",
      "0o1750\n",
      "0x3e8\n",
      "0\n"
     ]
    }
   ],
   "source": [
    "#Q: An integer can be represented in binary, octal or hexadecimal form.Declare one binary, one octal and\n",
    "#one hexadecimal value and store them in three different variables.\n",
    "#Ans:\n",
    "a=1000\n",
    "b=110\n",
    "print(bin(a))\n",
    "print(oct(a))\n",
    "c=1000\n",
    "print(hex(1000))\n",
    "d=100\n",
    "print(0*64)"
   ]
  },
  {
   "cell_type": "code",
   "execution_count": 61,
   "id": "fc4b42c6",
   "metadata": {},
   "outputs": [
    {
     "name": "stdout",
     "output_type": "stream",
     "text": [
      "0b10011010010100\n",
      "0o23224\n",
      "0x2694\n"
     ]
    }
   ],
   "source": [
    "#Q:Convert 9876 to its binary, octal and hexadecimal equivalent and print their corresponding value.\n",
    "#Binary\n",
    "a=9876\n",
    "print(bin(9876))\n",
    "#Into Octal\n",
    "a=9876\n",
    "print(oct(a))\n",
    "#into hexadecimal\n",
    "print(hex(a))"
   ]
  },
  {
   "cell_type": "code",
   "execution_count": 62,
   "id": "c2b3e00f",
   "metadata": {},
   "outputs": [
    {
     "name": "stdout",
     "output_type": "stream",
     "text": [
      "80\n",
      "3870\n",
      "64222\n",
      "0b1010000\n",
      "0o7436\n",
      "0xfade\n",
      "0b1010000\n",
      "0b1111101011011110\n",
      "0o175336\n",
      "0o7436\n",
      "0x50\n",
      "0xfade\n"
     ]
    }
   ],
   "source": [
    "#What will be the output of following:-\n",
    "a = 0b1010000\n",
    "print(a)\n",
    "b = 0o7436\n",
    "print(b)\n",
    "c = 0xfade\n",
    "print(c)\n",
    "print(bin(80))\n",
    "print(oct(3870))\n",
    "print(hex(64222))\n",
    "print(bin(0b1010000))\n",
    "print(bin(0xfade))\n",
    "print(oct(0xfade))\n",
    "print(oct(0o7436))\n",
    "print(hex(0b1010000))\n",
    "print(hex(0xfade))"
   ]
  },
  {
   "cell_type": "code",
   "execution_count": null,
   "id": "596b78b6",
   "metadata": {},
   "outputs": [],
   "source": []
  },
  {
   "cell_type": "code",
   "execution_count": null,
   "id": "b26ed35c",
   "metadata": {},
   "outputs": [],
   "source": []
  }
 ],
 "metadata": {
  "kernelspec": {
   "display_name": "Python 3 (ipykernel)",
   "language": "python",
   "name": "python3"
  },
  "language_info": {
   "codemirror_mode": {
    "name": "ipython",
    "version": 3
   },
   "file_extension": ".py",
   "mimetype": "text/x-python",
   "name": "python",
   "nbconvert_exporter": "python",
   "pygments_lexer": "ipython3",
   "version": "3.9.7"
  }
 },
 "nbformat": 4,
 "nbformat_minor": 5
}
